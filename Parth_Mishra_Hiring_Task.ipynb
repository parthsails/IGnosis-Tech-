{
 "cells": [
  {
   "cell_type": "code",
   "execution_count": null,
   "id": "989fbe5c-bc76-44a0-8725-5c52bdd3ac82",
   "metadata": {},
   "outputs": [],
   "source": [
    "import pandas as pd\n",
    "\n",
    "# Load the datasets\n",
    "transaction_file = \"transaction_data.csv\"\n",
    "purchase_file = \"purchase_behaviour.csv\"\n",
    "\n",
    "transaction_df = pd.read_csv(transaction_file)\n",
    "purchase_df = pd.read_csv(purchase_file)\n",
    "\n",
    "# 1. Identify Top 3 Most Profitable Products\n",
    "\n",
    "# Group by product and sum total sales\n",
    "top_products = (\n",
    "    transaction_df.groupby([\"PROD_NBR\", \"PROD_NAME\"])[\"TOT_SALES\"]\n",
    "    .sum()\n",
    "    .reset_index()\n",
    "    .sort_values(by=\"TOT_SALES\", ascending=False)\n",
    ")\n",
    "\n",
    "# Get the top 3 profitable products\n",
    "top_3_products = top_products.head(3)\n",
    "print(\"Top 3 Most Profitable Products:\")\n",
    "print(top_3_products)\n",
    "\n",
    "# 2. Identify Most Loyal Customers\n",
    "\n",
    "# Count number of transactions per customer\n",
    "loyal_customers = (\n",
    "    transaction_df.groupby(\"LYLTY_CARD_NBR\")[\"TXN_ID\"]\n",
    "    .count()\n",
    "    .reset_index()\n",
    "    .rename(columns={\"TXN_ID\": \"TOTAL_TRANSACTIONS\"})\n",
    "    .sort_values(by=\"TOTAL_TRANSACTIONS\", ascending=False)\n",
    ")\n",
    "\n",
    "# Merge with purchase behavior data\n",
    "loyal_customers_demo = loyal_customers.merge(purchase_df, on=\"LYLTY_CARD_NBR\")\n",
    "\n",
    "# Group by customer type and calculate average transactions per group\n",
    "loyal_customers_summary = (\n",
    "    loyal_customers_demo.groupby([\"LIFESTAGE\", \"PREMIUM_CUSTOMER\"])[\"TOTAL_TRANSACTIONS\"]\n",
    "    .mean()\n",
    "    .reset_index()\n",
    "    .sort_values(by=\"TOTAL_TRANSACTIONS\", ascending=False)\n",
    ")\n",
    "\n",
    "# Get the top 3 most loyal customer segments\n",
    "top_loyal_segments = loyal_customers_summary.head(3)\n",
    "print(\"\\nMost Loyal Customer Segments:\")\n",
    "print(top_loyal_segments)\n"
   ]
  },
  {
   "cell_type": "code",
   "execution_count": 13,
   "id": "f7e8e782-f487-4b13-810a-8e3c9b6c8ae6",
   "metadata": {},
   "outputs": [],
   "source": [
    "import pandas as pd\n",
    "\n",
    "# Load the datasets\n",
    "transaction_df = pd.read_csv(\"transaction_data.csv\")\n",
    "purchase_df= pd.read_csv(\"purchase_behaviour.csv\")"
   ]
  },
  {
   "cell_type": "code",
   "execution_count": 17,
   "id": "030d740e-cda0-45c0-ae6f-1dc820d1c456",
   "metadata": {},
   "outputs": [
    {
     "data": {
      "text/html": [
       "<div>\n",
       "<style scoped>\n",
       "    .dataframe tbody tr th:only-of-type {\n",
       "        vertical-align: middle;\n",
       "    }\n",
       "\n",
       "    .dataframe tbody tr th {\n",
       "        vertical-align: top;\n",
       "    }\n",
       "\n",
       "    .dataframe thead th {\n",
       "        text-align: right;\n",
       "    }\n",
       "</style>\n",
       "<table border=\"1\" class=\"dataframe\">\n",
       "  <thead>\n",
       "    <tr style=\"text-align: right;\">\n",
       "      <th></th>\n",
       "      <th>DATE</th>\n",
       "      <th>STORE_NBR</th>\n",
       "      <th>LYLTY_CARD_NBR</th>\n",
       "      <th>TXN_ID</th>\n",
       "      <th>PROD_NBR</th>\n",
       "      <th>PROD_NAME</th>\n",
       "      <th>PROD_QTY</th>\n",
       "      <th>TOT_SALES</th>\n",
       "    </tr>\n",
       "  </thead>\n",
       "  <tbody>\n",
       "    <tr>\n",
       "      <th>0</th>\n",
       "      <td>43390</td>\n",
       "      <td>1</td>\n",
       "      <td>1000</td>\n",
       "      <td>1</td>\n",
       "      <td>5</td>\n",
       "      <td>Natural Chip        Compny SeaSalt175g</td>\n",
       "      <td>2</td>\n",
       "      <td>6.0</td>\n",
       "    </tr>\n",
       "    <tr>\n",
       "      <th>1</th>\n",
       "      <td>43599</td>\n",
       "      <td>1</td>\n",
       "      <td>1307</td>\n",
       "      <td>348</td>\n",
       "      <td>66</td>\n",
       "      <td>CCs Nacho Cheese    175g</td>\n",
       "      <td>3</td>\n",
       "      <td>6.3</td>\n",
       "    </tr>\n",
       "    <tr>\n",
       "      <th>2</th>\n",
       "      <td>43605</td>\n",
       "      <td>1</td>\n",
       "      <td>1343</td>\n",
       "      <td>383</td>\n",
       "      <td>61</td>\n",
       "      <td>Smiths Crinkle Cut  Chips Chicken 170g</td>\n",
       "      <td>2</td>\n",
       "      <td>2.9</td>\n",
       "    </tr>\n",
       "    <tr>\n",
       "      <th>3</th>\n",
       "      <td>43329</td>\n",
       "      <td>2</td>\n",
       "      <td>2373</td>\n",
       "      <td>974</td>\n",
       "      <td>69</td>\n",
       "      <td>Smiths Chip Thinly  S/Cream&amp;Onion 175g</td>\n",
       "      <td>5</td>\n",
       "      <td>15.0</td>\n",
       "    </tr>\n",
       "    <tr>\n",
       "      <th>4</th>\n",
       "      <td>43330</td>\n",
       "      <td>2</td>\n",
       "      <td>2426</td>\n",
       "      <td>1038</td>\n",
       "      <td>108</td>\n",
       "      <td>Kettle Tortilla ChpsHny&amp;Jlpno Chili 150g</td>\n",
       "      <td>3</td>\n",
       "      <td>13.8</td>\n",
       "    </tr>\n",
       "  </tbody>\n",
       "</table>\n",
       "</div>"
      ],
      "text/plain": [
       "    DATE  STORE_NBR  LYLTY_CARD_NBR  TXN_ID  PROD_NBR  \\\n",
       "0  43390          1            1000       1         5   \n",
       "1  43599          1            1307     348        66   \n",
       "2  43605          1            1343     383        61   \n",
       "3  43329          2            2373     974        69   \n",
       "4  43330          2            2426    1038       108   \n",
       "\n",
       "                                  PROD_NAME  PROD_QTY  TOT_SALES  \n",
       "0    Natural Chip        Compny SeaSalt175g         2        6.0  \n",
       "1                  CCs Nacho Cheese    175g         3        6.3  \n",
       "2    Smiths Crinkle Cut  Chips Chicken 170g         2        2.9  \n",
       "3    Smiths Chip Thinly  S/Cream&Onion 175g         5       15.0  \n",
       "4  Kettle Tortilla ChpsHny&Jlpno Chili 150g         3       13.8  "
      ]
     },
     "execution_count": 17,
     "metadata": {},
     "output_type": "execute_result"
    }
   ],
   "source": [
    "transaction_df.head()"
   ]
  },
  {
   "cell_type": "code",
   "execution_count": 19,
   "id": "cc647c2c-d90f-4cfd-a520-4d0ba115a893",
   "metadata": {},
   "outputs": [
    {
     "data": {
      "text/html": [
       "<div>\n",
       "<style scoped>\n",
       "    .dataframe tbody tr th:only-of-type {\n",
       "        vertical-align: middle;\n",
       "    }\n",
       "\n",
       "    .dataframe tbody tr th {\n",
       "        vertical-align: top;\n",
       "    }\n",
       "\n",
       "    .dataframe thead th {\n",
       "        text-align: right;\n",
       "    }\n",
       "</style>\n",
       "<table border=\"1\" class=\"dataframe\">\n",
       "  <thead>\n",
       "    <tr style=\"text-align: right;\">\n",
       "      <th></th>\n",
       "      <th>LYLTY_CARD_NBR</th>\n",
       "      <th>LIFESTAGE</th>\n",
       "      <th>PREMIUM_CUSTOMER</th>\n",
       "    </tr>\n",
       "  </thead>\n",
       "  <tbody>\n",
       "    <tr>\n",
       "      <th>0</th>\n",
       "      <td>1000</td>\n",
       "      <td>YOUNG SINGLES/COUPLES</td>\n",
       "      <td>Premium</td>\n",
       "    </tr>\n",
       "    <tr>\n",
       "      <th>1</th>\n",
       "      <td>1002</td>\n",
       "      <td>YOUNG SINGLES/COUPLES</td>\n",
       "      <td>Mainstream</td>\n",
       "    </tr>\n",
       "    <tr>\n",
       "      <th>2</th>\n",
       "      <td>1003</td>\n",
       "      <td>YOUNG FAMILIES</td>\n",
       "      <td>Budget</td>\n",
       "    </tr>\n",
       "    <tr>\n",
       "      <th>3</th>\n",
       "      <td>1004</td>\n",
       "      <td>OLDER SINGLES/COUPLES</td>\n",
       "      <td>Mainstream</td>\n",
       "    </tr>\n",
       "    <tr>\n",
       "      <th>4</th>\n",
       "      <td>1005</td>\n",
       "      <td>MIDAGE SINGLES/COUPLES</td>\n",
       "      <td>Mainstream</td>\n",
       "    </tr>\n",
       "  </tbody>\n",
       "</table>\n",
       "</div>"
      ],
      "text/plain": [
       "   LYLTY_CARD_NBR               LIFESTAGE PREMIUM_CUSTOMER\n",
       "0            1000   YOUNG SINGLES/COUPLES          Premium\n",
       "1            1002   YOUNG SINGLES/COUPLES       Mainstream\n",
       "2            1003          YOUNG FAMILIES           Budget\n",
       "3            1004   OLDER SINGLES/COUPLES       Mainstream\n",
       "4            1005  MIDAGE SINGLES/COUPLES       Mainstream"
      ]
     },
     "execution_count": 19,
     "metadata": {},
     "output_type": "execute_result"
    }
   ],
   "source": [
    "purchase_df.head()"
   ]
  },
  {
   "cell_type": "code",
   "execution_count": 25,
   "id": "ff7f3cc1-0649-4981-b63a-8ba21db90050",
   "metadata": {},
   "outputs": [],
   "source": [
    "# 1. Identify Top 3 Most Profitable Products\n",
    "\n",
    "# Group by product and sum total sales\n",
    "top_products = (\n",
    "    transaction_df.groupby([\"PROD_NBR\", \"PROD_NAME\"])[\"TOT_SALES\"]\n",
    "    .sum()\n",
    "    .reset_index()\n",
    "    .sort_values(by=\"TOT_SALES\", ascending=False)\n",
    ")"
   ]
  },
  {
   "cell_type": "code",
   "execution_count": 27,
   "id": "e5e4ae4c-8aff-4765-ab16-ac9ed98b4513",
   "metadata": {},
   "outputs": [
    {
     "name": "stdout",
     "output_type": "stream",
     "text": [
      "Top 3 Most Profitable Products:\n",
      "    PROD_NBR                                 PROD_NAME  TOT_SALES\n",
      "3          4          Dorito Corn Chp     Supreme 380g    40352.0\n",
      "13        14    Smiths Crnkle Chip  Orgnl Big Bag 380g    36367.6\n",
      "15        16  Smiths Crinkle Chips Salt & Vinegar 330g    34804.2\n"
     ]
    }
   ],
   "source": [
    "# Get the top 3 profitable products\n",
    "top_3_products = top_products.head(3)\n",
    "print(\"Top 3 Most Profitable Products:\")\n",
    "print(top_3_products)"
   ]
  },
  {
   "cell_type": "code",
   "execution_count": 29,
   "id": "2676434e-d04e-47be-a293-aba5a86ab9af",
   "metadata": {},
   "outputs": [],
   "source": [
    "# 2. Identify Most Loyal Customers\n",
    "\n",
    "# Count number of transactions per customer\n",
    "loyal_customers = (\n",
    "    transaction_df.groupby(\"LYLTY_CARD_NBR\")[\"TXN_ID\"]\n",
    "    .count()\n",
    "    .reset_index()\n",
    "    .rename(columns={\"TXN_ID\": \"TOTAL_TRANSACTIONS\"})\n",
    "    .sort_values(by=\"TOTAL_TRANSACTIONS\", ascending=False)\n",
    ")"
   ]
  },
  {
   "cell_type": "code",
   "execution_count": 31,
   "id": "31780d03-d505-4728-8084-a142197b2721",
   "metadata": {},
   "outputs": [],
   "source": [
    "# Merge with purchase behavior data\n",
    "loyal_customers_demo = loyal_customers.merge(purchase_df, on=\"LYLTY_CARD_NBR\")"
   ]
  },
  {
   "cell_type": "code",
   "execution_count": 33,
   "id": "cf9d5cd4-1105-4133-9276-b46e8f38ca4e",
   "metadata": {},
   "outputs": [],
   "source": [
    "# Group by customer type and calculate average transactions per group\n",
    "loyal_customers_summary = (\n",
    "    loyal_customers_demo.groupby([\"LIFESTAGE\", \"PREMIUM_CUSTOMER\"])[\"TOTAL_TRANSACTIONS\"]\n",
    "    .mean()\n",
    "    .reset_index()\n",
    "    .sort_values(by=\"TOTAL_TRANSACTIONS\", ascending=False)\n",
    ")"
   ]
  },
  {
   "cell_type": "code",
   "execution_count": 35,
   "id": "99d19def-8dc1-4ca4-a3e6-6628663f006c",
   "metadata": {},
   "outputs": [
    {
     "name": "stdout",
     "output_type": "stream",
     "text": [
      "\n",
      "Most Loyal Customer Segments:\n",
      "        LIFESTAGE PREMIUM_CUSTOMER  TOTAL_TRANSACTIONS\n",
      "7  OLDER FAMILIES       Mainstream            5.031438\n",
      "6  OLDER FAMILIES           Budget            4.954011\n",
      "8  OLDER FAMILIES          Premium            4.921724\n"
     ]
    }
   ],
   "source": [
    "# Get the top 3 most loyal customer segments\n",
    "top_loyal_segments = loyal_customers_summary.head(3)\n",
    "print(\"\\nMost Loyal Customer Segments:\")\n",
    "print(top_loyal_segments)"
   ]
  },
  {
   "cell_type": "code",
   "execution_count": null,
   "id": "af8500fd-972a-4779-82c6-35237f6b4b93",
   "metadata": {},
   "outputs": [],
   "source": []
  }
 ],
 "metadata": {
  "kernelspec": {
   "display_name": "Python 3 (ipykernel)",
   "language": "python",
   "name": "python3"
  },
  "language_info": {
   "codemirror_mode": {
    "name": "ipython",
    "version": 3
   },
   "file_extension": ".py",
   "mimetype": "text/x-python",
   "name": "python",
   "nbconvert_exporter": "python",
   "pygments_lexer": "ipython3",
   "version": "3.12.7"
  }
 },
 "nbformat": 4,
 "nbformat_minor": 5
}
